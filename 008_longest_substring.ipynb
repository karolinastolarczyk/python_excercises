{
 "cells": [
  {
   "cell_type": "markdown",
   "metadata": {},
   "source": [
    "# Longest substring without repeating characters"
   ]
  },
  {
   "cell_type": "markdown",
   "metadata": {},
   "source": [
    "Solution 1"
   ]
  },
  {
   "cell_type": "code",
   "execution_count": 3,
   "metadata": {},
   "outputs": [],
   "source": [
    "def lengthOfLongestSubstring1(s: str) -> int:\n",
    "    l = set(s)\n",
    "\n",
    "    if len(l) == len(s):\n",
    "        return len(s)\n",
    "\n",
    "    max_substring = 1\n",
    "    \n",
    "    for i in range(len(s)):\n",
    "        for n in range(i+1, len(l)+i+1):\n",
    "            if len(s[i:n]) == len(set(s[i:n])) and len(set(s[i:n])) > max_substring:\n",
    "                max_substring = len(s[i:n])  \n",
    "\n",
    "    return max_substring"
   ]
  },
  {
   "cell_type": "code",
   "execution_count": 4,
   "metadata": {},
   "outputs": [
    {
     "name": "stdout",
     "output_type": "stream",
     "text": [
      "9\n"
     ]
    }
   ],
   "source": [
    "print(lengthOfLongestSubstring1('arbbtsjfdunhs'))"
   ]
  },
  {
   "cell_type": "code",
   "execution_count": 5,
   "metadata": {},
   "outputs": [
    {
     "name": "stdout",
     "output_type": "stream",
     "text": [
      "6\n"
     ]
    }
   ],
   "source": [
    "print(lengthOfLongestSubstring1('kwtkuysttwnmo'))"
   ]
  },
  {
   "cell_type": "code",
   "execution_count": 6,
   "metadata": {},
   "outputs": [
    {
     "name": "stdout",
     "output_type": "stream",
     "text": [
      "1\n"
     ]
    }
   ],
   "source": [
    "print(lengthOfLongestSubstring1('kkkkkk'))"
   ]
  },
  {
   "cell_type": "markdown",
   "metadata": {},
   "source": [
    "Solution 2  - sliding window"
   ]
  },
  {
   "cell_type": "code",
   "execution_count": 7,
   "metadata": {},
   "outputs": [],
   "source": [
    "from collections import Counter"
   ]
  },
  {
   "cell_type": "code",
   "execution_count": 8,
   "metadata": {},
   "outputs": [],
   "source": [
    "def lengthOfLongestSubstring2(s: str) -> int:\n",
    "    chars = Counter()\n",
    "\n",
    "    left = right = 0\n",
    "\n",
    "    res = 0\n",
    "    while right < len(s):\n",
    "        r = s[right]\n",
    "        chars[r] += 1\n",
    "\n",
    "        while chars[r] > 1:\n",
    "            l = s[left]\n",
    "            chars[l] -= 1\n",
    "            left += 1\n",
    "\n",
    "        res = max(res, right - left + 1)\n",
    "\n",
    "        right += 1\n",
    "    return res"
   ]
  },
  {
   "cell_type": "code",
   "execution_count": 9,
   "metadata": {},
   "outputs": [
    {
     "data": {
      "text/plain": [
       "6"
      ]
     },
     "execution_count": 9,
     "metadata": {},
     "output_type": "execute_result"
    }
   ],
   "source": [
    "\n",
    "lengthOfLongestSubstring2('kwtkuysttwnmo')"
   ]
  },
  {
   "cell_type": "code",
   "execution_count": 10,
   "metadata": {},
   "outputs": [
    {
     "data": {
      "text/plain": [
       "1"
      ]
     },
     "execution_count": 10,
     "metadata": {},
     "output_type": "execute_result"
    }
   ],
   "source": [
    "lengthOfLongestSubstring2('kkkkkk')"
   ]
  }
 ],
 "metadata": {
  "kernelspec": {
   "display_name": "Python 3",
   "language": "python",
   "name": "python3"
  },
  "language_info": {
   "codemirror_mode": {
    "name": "ipython",
    "version": 3
   },
   "file_extension": ".py",
   "mimetype": "text/x-python",
   "name": "python",
   "nbconvert_exporter": "python",
   "pygments_lexer": "ipython3",
   "version": "3.13.1"
  }
 },
 "nbformat": 4,
 "nbformat_minor": 2
}
