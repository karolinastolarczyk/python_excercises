{
 "cells": [
  {
   "cell_type": "markdown",
   "metadata": {},
   "source": [
    "# ZigZag Conversion"
   ]
  },
  {
   "cell_type": "markdown",
   "metadata": {},
   "source": [
    "The string \"PAYPALISHIRING\" is written in a zigzag pattern on a given number of rows like this: (you may want to display this pattern in a fixed font for better legibility)\n",
    "<br>\n",
    "P  &nbsp;&nbsp; A  &nbsp;&nbsp; H  &nbsp; &nbsp; N <br>\n",
    "A P L S &nbsp; I &nbsp; I G <br>\n",
    "Y  &nbsp; &nbsp; &nbsp;I &nbsp;&ensp; R <br>\n",
    "<br>\n",
    "And then read line by line: \"PAHNAPLSIIGYIR\""
   ]
  },
  {
   "cell_type": "code",
   "execution_count": 2,
   "metadata": {},
   "outputs": [],
   "source": [
    "def zigzag_conversion( s, numRows):\n",
    "    \"\"\"\n",
    "    :type s: str\n",
    "    :type numRows: int\n",
    "    \"\"\"\n",
    "    r = []\n",
    "    wiersz = 0\n",
    "    kolumna = 0\n",
    "    for i in range(numRows):\n",
    "        r.append('')\n",
    "\n",
    "    if numRows == 1:\n",
    "        return s\n",
    "\n",
    "    for char in s:\n",
    "        r[wiersz] += char\n",
    "        #print(char, wiersz, kolumna)\n",
    "        if ((wiersz + kolumna) != (numRows  -1)):\n",
    "            wiersz += 1\n",
    "        else:\n",
    "            kolumna += 1\n",
    "            wiersz -= 1\n",
    "            if (kolumna == (numRows - 1)): kolumna = 0\n",
    "        \n",
    "    word = ''\n",
    "    for i in r:\n",
    "        word += i\n",
    "\n",
    "    return word"
   ]
  },
  {
   "cell_type": "code",
   "execution_count": 3,
   "metadata": {},
   "outputs": [
    {
     "data": {
      "text/plain": [
       "'PAHNAPLSIIGYIR'"
      ]
     },
     "execution_count": 3,
     "metadata": {},
     "output_type": "execute_result"
    }
   ],
   "source": [
    "zigzag_conversion( 'PAYPALISHIRING', 3)"
   ]
  }
 ],
 "metadata": {
  "kernelspec": {
   "display_name": "Python 3",
   "language": "python",
   "name": "python3"
  },
  "language_info": {
   "codemirror_mode": {
    "name": "ipython",
    "version": 3
   },
   "file_extension": ".py",
   "mimetype": "text/x-python",
   "name": "python",
   "nbconvert_exporter": "python",
   "pygments_lexer": "ipython3",
   "version": "3.13.1"
  }
 },
 "nbformat": 4,
 "nbformat_minor": 2
}
